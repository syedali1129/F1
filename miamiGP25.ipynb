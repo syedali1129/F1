{
 "cells": [
  {
   "cell_type": "code",
   "execution_count": 1,
   "metadata": {},
   "outputs": [],
   "source": [
    "import fastf1\n",
    "import pandas as pd\n",
    "import numpy as np\n",
    "import requests\n",
    "from sklearn.model_selection import train_test_split\n",
    "from sklearn.ensemble import GradientBoostingRegressor\n",
    "from sklearn.metrics import mean_absolute_error\n",
    "import matplotlib.pyplot as plt\n",
    "from sklearn.impute import SimpleImputer"
   ]
  },
  {
   "cell_type": "code",
   "execution_count": 2,
   "metadata": {},
   "outputs": [],
   "source": [
    "import os\n",
    "import tempfile\n",
    "# Use system temp directory for caching\n",
    "cache_dir = os.path.join(tempfile.gettempdir(), \"f1_cache\")\n",
    "os.makedirs(cache_dir, exist_ok=True)\n",
    "\n",
    "fastf1.Cache.enable_cache(cache_dir)"
   ]
  },
  {
   "cell_type": "code",
   "execution_count": 3,
   "metadata": {},
   "outputs": [
    {
     "name": "stderr",
     "output_type": "stream",
     "text": [
      "core           INFO \tLoading data for Miami Grand Prix - Race [v3.6.0]\n",
      "req            INFO \tNo cached data found for session_info. Loading data...\n",
      "_api           INFO \tFetching session info data...\n",
      "req            INFO \tData has been written to cache!\n",
      "req            INFO \tNo cached data found for driver_info. Loading data...\n",
      "_api           INFO \tFetching driver list...\n",
      "req            INFO \tData has been written to cache!\n",
      "req            INFO \tNo cached data found for session_status_data. Loading data...\n",
      "_api           INFO \tFetching session status data...\n",
      "req            INFO \tData has been written to cache!\n",
      "req            INFO \tNo cached data found for lap_count. Loading data...\n",
      "_api           INFO \tFetching lap count data...\n",
      "req            INFO \tData has been written to cache!\n",
      "req            INFO \tNo cached data found for track_status_data. Loading data...\n",
      "_api           INFO \tFetching track status data...\n",
      "req            INFO \tData has been written to cache!\n",
      "req            INFO \tNo cached data found for _extended_timing_data. Loading data...\n",
      "_api           INFO \tFetching timing data...\n",
      "_api           INFO \tParsing timing data...\n",
      "req            INFO \tData has been written to cache!\n",
      "req            INFO \tNo cached data found for timing_app_data. Loading data...\n",
      "_api           INFO \tFetching timing app data...\n",
      "req            INFO \tData has been written to cache!\n",
      "core           INFO \tProcessing timing data...\n",
      "req            INFO \tNo cached data found for car_data. Loading data...\n",
      "_api           INFO \tFetching car data...\n",
      "_api           INFO \tParsing car data...\n",
      "req            INFO \tData has been written to cache!\n",
      "req            INFO \tNo cached data found for position_data. Loading data...\n",
      "_api           INFO \tFetching position data...\n",
      "_api           INFO \tParsing position data...\n",
      "_api        WARNING \tDriver 241: Position data is incomplete!\n",
      "_api        WARNING \tDriver 242: Position data is incomplete!\n",
      "_api        WARNING \tDriver 243: Position data is incomplete!\n",
      "req            INFO \tData has been written to cache!\n",
      "req            INFO \tNo cached data found for weather_data. Loading data...\n",
      "_api           INFO \tFetching weather data...\n",
      "req            INFO \tData has been written to cache!\n",
      "req            INFO \tNo cached data found for race_control_messages. Loading data...\n",
      "_api           INFO \tFetching race control messages...\n",
      "req            INFO \tData has been written to cache!\n",
      "core           INFO \tFinished loading data for 20 drivers: ['4', '1', '16', '11', '55', '44', '22', '63', '14', '31', '27', '10', '81', '24', '3', '77', '18', '23', '20', '2']\n"
     ]
    }
   ],
   "source": [
    "# load the 2024 miami session data\n",
    "session_2024 = fastf1.get_session(2024, \"Miami\", \"R\")\n",
    "session_2024.load()\n",
    "laps_2024 = session_2024.laps[[\"Driver\", \"LapTime\", \"Sector1Time\", \"Sector2Time\", \"Sector3Time\"]].copy()\n",
    "laps_2024.dropna(inplace=True)\n"
   ]
  },
  {
   "cell_type": "code",
   "execution_count": 8,
   "metadata": {},
   "outputs": [
    {
     "data": {
      "text/html": [
       "<div>\n",
       "<style scoped>\n",
       "    .dataframe tbody tr th:only-of-type {\n",
       "        vertical-align: middle;\n",
       "    }\n",
       "\n",
       "    .dataframe tbody tr th {\n",
       "        vertical-align: top;\n",
       "    }\n",
       "\n",
       "    .dataframe thead th {\n",
       "        text-align: right;\n",
       "    }\n",
       "</style>\n",
       "<table border=\"1\" class=\"dataframe\">\n",
       "  <thead>\n",
       "    <tr style=\"text-align: right;\">\n",
       "      <th></th>\n",
       "      <th>Driver</th>\n",
       "      <th>LapTime</th>\n",
       "      <th>Sector1Time</th>\n",
       "      <th>Sector2Time</th>\n",
       "      <th>Sector3Time</th>\n",
       "      <th>LapTime (s)</th>\n",
       "      <th>Sector1Time (s)</th>\n",
       "      <th>Sector2Time (s)</th>\n",
       "      <th>Sector3Time (s)</th>\n",
       "    </tr>\n",
       "  </thead>\n",
       "  <tbody>\n",
       "    <tr>\n",
       "      <th>1</th>\n",
       "      <td>VER</td>\n",
       "      <td>0 days 00:01:33.093000</td>\n",
       "      <td>0 days 00:00:31.455000</td>\n",
       "      <td>0 days 00:00:35.489000</td>\n",
       "      <td>0 days 00:00:26.149000</td>\n",
       "      <td>93.093</td>\n",
       "      <td>31.455</td>\n",
       "      <td>35.489</td>\n",
       "      <td>26.149</td>\n",
       "    </tr>\n",
       "    <tr>\n",
       "      <th>2</th>\n",
       "      <td>VER</td>\n",
       "      <td>0 days 00:01:33.137000</td>\n",
       "      <td>0 days 00:00:31.551000</td>\n",
       "      <td>0 days 00:00:35.472000</td>\n",
       "      <td>0 days 00:00:26.114000</td>\n",
       "      <td>93.137</td>\n",
       "      <td>31.551</td>\n",
       "      <td>35.472</td>\n",
       "      <td>26.114</td>\n",
       "    </tr>\n",
       "    <tr>\n",
       "      <th>3</th>\n",
       "      <td>VER</td>\n",
       "      <td>0 days 00:01:33.504000</td>\n",
       "      <td>0 days 00:00:31.508000</td>\n",
       "      <td>0 days 00:00:35.686000</td>\n",
       "      <td>0 days 00:00:26.310000</td>\n",
       "      <td>93.504</td>\n",
       "      <td>31.508</td>\n",
       "      <td>35.686</td>\n",
       "      <td>26.310</td>\n",
       "    </tr>\n",
       "    <tr>\n",
       "      <th>4</th>\n",
       "      <td>VER</td>\n",
       "      <td>0 days 00:01:32.834000</td>\n",
       "      <td>0 days 00:00:31.318000</td>\n",
       "      <td>0 days 00:00:35.410000</td>\n",
       "      <td>0 days 00:00:26.106000</td>\n",
       "      <td>92.834</td>\n",
       "      <td>31.318</td>\n",
       "      <td>35.410</td>\n",
       "      <td>26.106</td>\n",
       "    </tr>\n",
       "    <tr>\n",
       "      <th>5</th>\n",
       "      <td>VER</td>\n",
       "      <td>0 days 00:01:32.939000</td>\n",
       "      <td>0 days 00:00:31.528000</td>\n",
       "      <td>0 days 00:00:35.395000</td>\n",
       "      <td>0 days 00:00:26.016000</td>\n",
       "      <td>92.939</td>\n",
       "      <td>31.528</td>\n",
       "      <td>35.395</td>\n",
       "      <td>26.016</td>\n",
       "    </tr>\n",
       "    <tr>\n",
       "      <th>...</th>\n",
       "      <td>...</td>\n",
       "      <td>...</td>\n",
       "      <td>...</td>\n",
       "      <td>...</td>\n",
       "      <td>...</td>\n",
       "      <td>...</td>\n",
       "      <td>...</td>\n",
       "      <td>...</td>\n",
       "      <td>...</td>\n",
       "    </tr>\n",
       "    <tr>\n",
       "      <th>1106</th>\n",
       "      <td>PIA</td>\n",
       "      <td>0 days 00:01:32.610000</td>\n",
       "      <td>0 days 00:00:31.675000</td>\n",
       "      <td>0 days 00:00:35.281000</td>\n",
       "      <td>0 days 00:00:25.654000</td>\n",
       "      <td>92.610</td>\n",
       "      <td>31.675</td>\n",
       "      <td>35.281</td>\n",
       "      <td>25.654</td>\n",
       "    </tr>\n",
       "    <tr>\n",
       "      <th>1107</th>\n",
       "      <td>PIA</td>\n",
       "      <td>0 days 00:01:31.932000</td>\n",
       "      <td>0 days 00:00:31.311000</td>\n",
       "      <td>0 days 00:00:35.210000</td>\n",
       "      <td>0 days 00:00:25.411000</td>\n",
       "      <td>91.932</td>\n",
       "      <td>31.311</td>\n",
       "      <td>35.210</td>\n",
       "      <td>25.411</td>\n",
       "    </tr>\n",
       "    <tr>\n",
       "      <th>1108</th>\n",
       "      <td>PIA</td>\n",
       "      <td>0 days 00:01:31.665000</td>\n",
       "      <td>0 days 00:00:30.878000</td>\n",
       "      <td>0 days 00:00:35.143000</td>\n",
       "      <td>0 days 00:00:25.644000</td>\n",
       "      <td>91.665</td>\n",
       "      <td>30.878</td>\n",
       "      <td>35.143</td>\n",
       "      <td>25.644</td>\n",
       "    </tr>\n",
       "    <tr>\n",
       "      <th>1109</th>\n",
       "      <td>PIA</td>\n",
       "      <td>0 days 00:01:32.054000</td>\n",
       "      <td>0 days 00:00:31.051000</td>\n",
       "      <td>0 days 00:00:35.296000</td>\n",
       "      <td>0 days 00:00:25.707000</td>\n",
       "      <td>92.054</td>\n",
       "      <td>31.051</td>\n",
       "      <td>35.296</td>\n",
       "      <td>25.707</td>\n",
       "    </tr>\n",
       "    <tr>\n",
       "      <th>1110</th>\n",
       "      <td>PIA</td>\n",
       "      <td>0 days 00:01:32.150000</td>\n",
       "      <td>0 days 00:00:31.193000</td>\n",
       "      <td>0 days 00:00:35.351000</td>\n",
       "      <td>0 days 00:00:25.606000</td>\n",
       "      <td>92.150</td>\n",
       "      <td>31.193</td>\n",
       "      <td>35.351</td>\n",
       "      <td>25.606</td>\n",
       "    </tr>\n",
       "  </tbody>\n",
       "</table>\n",
       "<p>1086 rows × 9 columns</p>\n",
       "</div>"
      ],
      "text/plain": [
       "     Driver                LapTime            Sector1Time  \\\n",
       "1       VER 0 days 00:01:33.093000 0 days 00:00:31.455000   \n",
       "2       VER 0 days 00:01:33.137000 0 days 00:00:31.551000   \n",
       "3       VER 0 days 00:01:33.504000 0 days 00:00:31.508000   \n",
       "4       VER 0 days 00:01:32.834000 0 days 00:00:31.318000   \n",
       "5       VER 0 days 00:01:32.939000 0 days 00:00:31.528000   \n",
       "...     ...                    ...                    ...   \n",
       "1106    PIA 0 days 00:01:32.610000 0 days 00:00:31.675000   \n",
       "1107    PIA 0 days 00:01:31.932000 0 days 00:00:31.311000   \n",
       "1108    PIA 0 days 00:01:31.665000 0 days 00:00:30.878000   \n",
       "1109    PIA 0 days 00:01:32.054000 0 days 00:00:31.051000   \n",
       "1110    PIA 0 days 00:01:32.150000 0 days 00:00:31.193000   \n",
       "\n",
       "                Sector2Time            Sector3Time  LapTime (s)  \\\n",
       "1    0 days 00:00:35.489000 0 days 00:00:26.149000       93.093   \n",
       "2    0 days 00:00:35.472000 0 days 00:00:26.114000       93.137   \n",
       "3    0 days 00:00:35.686000 0 days 00:00:26.310000       93.504   \n",
       "4    0 days 00:00:35.410000 0 days 00:00:26.106000       92.834   \n",
       "5    0 days 00:00:35.395000 0 days 00:00:26.016000       92.939   \n",
       "...                     ...                    ...          ...   \n",
       "1106 0 days 00:00:35.281000 0 days 00:00:25.654000       92.610   \n",
       "1107 0 days 00:00:35.210000 0 days 00:00:25.411000       91.932   \n",
       "1108 0 days 00:00:35.143000 0 days 00:00:25.644000       91.665   \n",
       "1109 0 days 00:00:35.296000 0 days 00:00:25.707000       92.054   \n",
       "1110 0 days 00:00:35.351000 0 days 00:00:25.606000       92.150   \n",
       "\n",
       "      Sector1Time (s)  Sector2Time (s)  Sector3Time (s)  \n",
       "1              31.455           35.489           26.149  \n",
       "2              31.551           35.472           26.114  \n",
       "3              31.508           35.686           26.310  \n",
       "4              31.318           35.410           26.106  \n",
       "5              31.528           35.395           26.016  \n",
       "...               ...              ...              ...  \n",
       "1106           31.675           35.281           25.654  \n",
       "1107           31.311           35.210           25.411  \n",
       "1108           30.878           35.143           25.644  \n",
       "1109           31.051           35.296           25.707  \n",
       "1110           31.193           35.351           25.606  \n",
       "\n",
       "[1086 rows x 9 columns]"
      ]
     },
     "execution_count": 8,
     "metadata": {},
     "output_type": "execute_result"
    }
   ],
   "source": [
    "laps_2024"
   ]
  },
  {
   "cell_type": "code",
   "execution_count": 5,
   "metadata": {},
   "outputs": [],
   "source": [
    " #convert lap and sector times to seconds\n",
    "for col in [\"LapTime\", \"Sector1Time\", \"Sector2Time\", \"Sector3Time\"]:\n",
    "    laps_2024[f\"{col} (s)\"] = laps_2024[col].dt.total_seconds()\n"
   ]
  },
  {
   "cell_type": "code",
   "execution_count": 10,
   "metadata": {},
   "outputs": [],
   "source": [
    "# aggregate sector times by driver\n",
    "sector_times_2024 = laps_2024.groupby(\"Driver\").agg({\n",
    "    \"Sector1Time (s)\": \"mean\",\n",
    "    \"Sector2Time (s)\": \"mean\",\n",
    "    \"Sector3Time (s)\": \"mean\"\n",
    "}).reset_index()\n",
    "\n",
    "sector_times_2024[\"TotalSectorTime (s)\"] = (\n",
    "    sector_times_2024[\"Sector1Time (s)\"] +\n",
    "    sector_times_2024[\"Sector2Time (s)\"] +\n",
    "    sector_times_2024[\"Sector3Time (s)\"]\n",
    ")\n"
   ]
  },
  {
   "cell_type": "code",
   "execution_count": 11,
   "metadata": {},
   "outputs": [],
   "source": [
    "# clean air race pace from racepace.py\n",
    "clean_air_race_pace = {\n",
    "    \"VER\": 93.191067, \"HAM\": 94.020622, \"LEC\": 93.418667, \"NOR\": 93.428600, \"ALO\": 94.784333,\n",
    "    \"PIA\": 93.232111, \"RUS\": 93.833378, \"SAI\": 94.497444, \"STR\": 95.318250, \"HUL\": 95.345455,\n",
    "    \"OCO\": 95.682128\n",
    "}\n"
   ]
  },
  {
   "cell_type": "code",
   "execution_count": 12,
   "metadata": {},
   "outputs": [],
   "source": [
    "# add quali data on Saturday for Miami GP 2025\n",
    "qualifying_2025 = pd.DataFrame({\n",
    "    \"Driver\": [\"VER\", \"NOR\", \"PIA\", \"RUS\", \"SAI\", \"ALB\", \"LEC\", \"OCO\",\n",
    "               \"TSU\", \"HAM\", \"STR\", \"GAS\", \"ALO\", \"HUL\"],\n",
    "    \"QualifyingTime (s)\": [86.204, 86.269, 86.375, 86.385, 86.569, 86.682,\n",
    "                           86.754, 86.824, 86.943, 87.006, 87.830, 87.710, 87.604, 87.473]\n",
    "})\n"
   ]
  },
  {
   "cell_type": "code",
   "execution_count": 13,
   "metadata": {},
   "outputs": [],
   "source": [
    "qualifying_2025[\"CleanAirRacePace (s)\"] = qualifying_2025[\"Driver\"].map(clean_air_race_pace)\n"
   ]
  },
  {
   "cell_type": "code",
   "execution_count": 16,
   "metadata": {},
   "outputs": [],
   "source": [
    "API_KEY = \"d2585e28290357a9db05c428cdb49ae9\"\n",
    "weather_url = f\"http://api.openweathermap.org/data/2.5/forecast?lat=25.7617&lon=-80.1918&appid={API_KEY}&units=metric\"\n",
    "response = requests.get(weather_url)\n",
    "weather_data = response.json()\n",
    "forecast_time = \"2025-05-04 13:00:00\"\n",
    "forecast_data = next((f for f in weather_data[\"list\"] if f[\"dt_txt\"] == forecast_time), None)\n"
   ]
  },
  {
   "cell_type": "code",
   "execution_count": 17,
   "metadata": {},
   "outputs": [],
   "source": [
    "rain_probability = forecast_data[\"pop\"] if forecast_data else 0\n",
    "temperature = forecast_data[\"main\"][\"temp\"] if forecast_data else 20\n"
   ]
  },
  {
   "cell_type": "code",
   "execution_count": 18,
   "metadata": {},
   "outputs": [],
   "source": [
    "# adjust qualifying time based on weather conditions\n",
    "if rain_probability >= 0.75:\n",
    "    qualifying_2025[\"QualifyingTime\"] = qualifying_2025[\"QualifyingTime (s)\"] * qualifying_2025[\"WetPerformanceFactor\"]\n",
    "else:\n",
    "    qualifying_2025[\"QualifyingTime\"] = qualifying_2025[\"QualifyingTime (s)\"]\n"
   ]
  },
  {
   "cell_type": "code",
   "execution_count": 19,
   "metadata": {},
   "outputs": [],
   "source": [
    "# add constructor's data\n",
    "team_points = {\n",
    "    \"McLaren\": 203, \"Mercedes\": 118, \"Red Bull\": 92, \"Williams\": 25, \"Ferrari\": 84,\n",
    "    \"Haas\": 20, \"Aston Martin\": 14, \"Kick Sauber\": 6, \"Racing Bulls\": 8, \"Alpine\": 7\n",
    "}"
   ]
  },
  {
   "cell_type": "code",
   "execution_count": 21,
   "metadata": {},
   "outputs": [
    {
     "data": {
      "text/plain": [
       "{'McLaren': 1.0,\n",
       " 'Mercedes': 0.5812807881773399,\n",
       " 'Red Bull': 0.45320197044334976,\n",
       " 'Williams': 0.12315270935960591,\n",
       " 'Ferrari': 0.41379310344827586,\n",
       " 'Haas': 0.09852216748768473,\n",
       " 'Aston Martin': 0.06896551724137931,\n",
       " 'Kick Sauber': 0.029556650246305417,\n",
       " 'Racing Bulls': 0.03940886699507389,\n",
       " 'Alpine': 0.034482758620689655}"
      ]
     },
     "execution_count": 21,
     "metadata": {},
     "output_type": "execute_result"
    }
   ],
   "source": [
    "max_points = max(team_points.values())\n",
    "team_performance_score = {team: points / max_points for team, points in team_points.items()}\n",
    "team_performance_score\n"
   ]
  },
  {
   "cell_type": "code",
   "execution_count": 22,
   "metadata": {},
   "outputs": [],
   "source": [
    "driver_to_team = {\n",
    "    \"VER\": \"Red Bull\", \"NOR\": \"McLaren\", \"PIA\": \"McLaren\", \"LEC\": \"Ferrari\", \"RUS\": \"Mercedes\",\n",
    "    \"HAM\": \"Mercedes\", \"GAS\": \"Alpine\", \"ALO\": \"Aston Martin\", \"TSU\": \"Racing Bulls\",\n",
    "    \"SAI\": \"Ferrari\", \"HUL\": \"Kick Sauber\", \"OCO\": \"Alpine\", \"STR\": \"Aston Martin\"\n",
    "}\n"
   ]
  },
  {
   "cell_type": "code",
   "execution_count": 23,
   "metadata": {},
   "outputs": [],
   "source": [
    "qualifying_2025[\"Team\"] = qualifying_2025[\"Driver\"].map(driver_to_team)\n",
    "qualifying_2025[\"TeamPerformanceScore\"] = qualifying_2025[\"Team\"].map(team_performance_score)"
   ]
  },
  {
   "cell_type": "code",
   "execution_count": 24,
   "metadata": {},
   "outputs": [],
   "source": [
    "# merge qualifying and sector times data\n",
    "merged_data = qualifying_2025.merge(sector_times_2024[[\"Driver\", \"TotalSectorTime (s)\"]], on=\"Driver\", how=\"left\")\n",
    "merged_data[\"RainProbability\"] = rain_probability\n",
    "merged_data[\"Temperature\"] = temperature\n",
    "merged_data[\"LastYearWinner\"] = (merged_data[\"Driver\"] == \"VER\").astype(int)\n",
    "merged_data[\"QualifyingTime\"] = merged_data[\"QualifyingTime\"] ** 2"
   ]
  },
  {
   "cell_type": "code",
   "execution_count": 25,
   "metadata": {},
   "outputs": [],
   "source": [
    "# define features (X) and target (y)\n",
    "X = merged_data[[\n",
    "    \"QualifyingTime\", \"RainProbability\", \"Temperature\", \"TeamPerformanceScore\", \n",
    "    \"CleanAirRacePace (s)\"\n",
    "]]\n",
    "y = laps_2024.groupby(\"Driver\")[\"LapTime (s)\"].mean().reindex(merged_data[\"Driver\"])\n"
   ]
  },
  {
   "cell_type": "code",
   "execution_count": 26,
   "metadata": {},
   "outputs": [],
   "source": [
    "# impute missing values for features\n",
    "imputer = SimpleImputer(strategy=\"median\")\n",
    "X_imputed = imputer.fit_transform(X)"
   ]
  },
  {
   "cell_type": "code",
   "execution_count": 27,
   "metadata": {},
   "outputs": [],
   "source": [
    "# train-test split\n",
    "X_train, X_test, y_train, y_test = train_test_split(X_imputed, y, test_size=0.2, random_state=38)\n",
    "\n"
   ]
  },
  {
   "cell_type": "code",
   "execution_count": 28,
   "metadata": {},
   "outputs": [],
   "source": [
    "# train gradient boosting model\n",
    "model = GradientBoostingRegressor(n_estimators=300, learning_rate=0.05, max_depth=5, random_state=38)\n",
    "model.fit(X_train, y_train)\n",
    "merged_data[\"PredictedRaceTime (s)\"] = model.predict(X_imputed)"
   ]
  },
  {
   "cell_type": "code",
   "execution_count": 29,
   "metadata": {},
   "outputs": [
    {
     "name": "stdout",
     "output_type": "stream",
     "text": [
      "\n",
      "🏁 Predicted 2025 Miami GP Winner 🏁\n",
      "\n",
      "   Driver  PredictedRaceTime (s)\n",
      "1     NOR              94.442128\n",
      "0     VER              94.693037\n",
      "2     PIA              95.497146\n",
      "4     SAI              95.786589\n",
      "9     HAM              95.831018\n",
      "8     TSU              95.982250\n",
      "10    STR              96.024836\n",
      "12    ALO              96.024836\n",
      "6     LEC              96.029645\n",
      "3     RUS              96.125678\n",
      "7     OCO              96.176589\n",
      "13    HUL              96.259036\n",
      "11    GAS              96.276375\n",
      "5     ALB              96.821589\n",
      "Model Error (MAE ): 0.55 seconds\n"
     ]
    }
   ],
   "source": [
    "# sort the results to find the predicted winner\n",
    "final_results = merged_data.sort_values(\"PredictedRaceTime (s)\")\n",
    "print(\"\\n🏁 Predicted 2025 Miami GP Winner 🏁\\n\")\n",
    "print(final_results[[\"Driver\", \"PredictedRaceTime (s)\"]])\n",
    "y_pred = model.predict(X_test)\n",
    "print(f\"Model Error (MAE ): {mean_absolute_error(y_test, y_pred):.2f} seconds\")"
   ]
  },
  {
   "cell_type": "code",
   "execution_count": 30,
   "metadata": {},
   "outputs": [
    {
     "data": {
      "image/png": "[encoded data removed]",
      "text/plain": [
       "<Figure size 1200x800 with 1 Axes>"
      ]
     },
     "metadata": {},
     "output_type": "display_data"
    }
   ],
   "source": [
    "# plot effect of clean air race pace\n",
    "plt.figure(figsize=(12, 8))\n",
    "plt.scatter(final_results[\"CleanAirRacePace (s)\"], final_results[\"PredictedRaceTime (s)\"])\n",
    "for i, driver in enumerate(final_results[\"Driver\"]):\n",
    "    plt.annotate(driver, (final_results[\"CleanAirRacePace (s)\"].iloc[i], final_results[\"PredictedRaceTime (s)\"].iloc[i]),\n",
    "                 xytext=(5, 5), textcoords='offset points')\n",
    "plt.xlabel(\"clean air race pace (s)\")\n",
    "plt.ylabel(\"predicted race time (s)\")\n",
    "plt.title(\"effect of clean air race pace on predicted race results\")\n",
    "plt.tight_layout()\n",
    "plt.show()"
   ]
  },
  {
   "cell_type": "code",
   "execution_count": null,
   "metadata": {},
   "outputs": [],
   "source": []
  }
 ],
 "metadata": {
  "kernelspec": {
   "display_name": "base",
   "language": "python",
   "name": "python3"
  },
  "language_info": {
   "codemirror_mode": {
    "name": "ipython",
    "version": 3
   },
   "file_extension": ".py",
   "mimetype": "text/x-python",
   "name": "python",
   "nbconvert_exporter": "python",
   "pygments_lexer": "ipython3",
   "version": "3.12.7"
  }
 },
 "nbformat": 4,
 "nbformat_minor": 2
}
